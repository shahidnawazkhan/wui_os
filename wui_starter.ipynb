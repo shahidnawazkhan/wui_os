{
 "cells": [
  {
   "cell_type": "code",
   "execution_count": 1,
   "metadata": {},
   "outputs": [],
   "source": [
    "import rasterio\n",
    "import gdal\n",
    "from gdal import ogr\n",
    "from matplotlib import pyplot\n",
    "from rasterio import plot\n",
    "import numpy as np\n",
    "from numpy import asarray"
   ]
  },
  {
   "cell_type": "code",
   "execution_count": 21,
   "metadata": {},
   "outputs": [],
   "source": [
    "#the following function takes a shapefile and convert into the raster. The function is written such as it counts the number of points falling into each cell and assign that value to the resultant Raster\n",
    "def rasterize_vector (vector_fname, nx, ny, geo_T, srs, the_attribute ):\n",
    "    \"\"\"vector fname is a OGR-friendy database/shapefile filename. nx ad ny\n",
    "    are the target dataset rows and columns. geoT and srs\n",
    "    are the geotransform and projection from the target dataset. the_attribute\n",
    "    is the attribute to rasterize in the vector dataset.\"\"\"\n",
    "    # Open the data source\n",
    "    vector_source = ogr.Open( vector_fname )\n",
    "    features = vector_source.GetLayer ( 0 )\n",
    "    source_layer = vector_source.GetLayer(0)\n",
    "    target_ds = gdal.GetDriverByName('GTiff').Create(\"nlcd\\\\2152020.tif\", nx, ny, 1,\\\n",
    "        gdal.GDT_Int32)\n",
    "    target_ds.SetGeoTransform( geo_T )\n",
    "    target_ds.SetProjection( srs )\n",
    "    #gdal.RasterizeLayer(target_ds, [1], source_layer,options=[\"ATTRIBUTE=%s\" %the_attribute, 'MERGE_ALG=ADD'])\n",
    "    # Rasterise!\n",
    "    err = gdal.RasterizeLayer(target_ds, [1], source_layer,\n",
    "        options=[\"ATTRIBUTE=%s\" %the_attribute, 'MERGE_ALG=ADD'])\n",
    "    print(err)\n",
    "    if err != 0:\n",
    "        raise Exception(\"error rasterizing layer: %s\" % err)\n",
    "    data = target_ds.ReadAsArray()\n",
    "    target_ds= None\n",
    "    return data"
   ]
  },
  {
   "cell_type": "code",
   "execution_count": 22,
   "metadata": {},
   "outputs": [],
   "source": [
    "land_cover= gdal.Open('nlcd\\\\nlcd_montana_county.tif')\n",
    "#print(land_cover.GetGeoTransform())\n",
    "#print(land_cover.crs)\n",
    "#plot.show(land_cover)\n",
    "land_cover_array= np.array(land_cover.GetRasterBand(1).ReadAsArray())\n",
    "#print(land_cover_array)\n",
    "\n"
   ]
  },
  {
   "cell_type": "code",
   "execution_count": 23,
   "metadata": {},
   "outputs": [],
   "source": [
    "#code for unique values in Image\n"
   ]
  },
  {
   "cell_type": "code",
   "execution_count": 24,
   "metadata": {},
   "outputs": [],
   "source": [
    "geo_T = land_cover.GetGeoTransform()\n",
    "srs = land_cover.GetSpatialRef()\n",
    "nx = land_cover.RasterXSize\n",
    "ny = land_cover.RasterYSize\n"
   ]
  },
  {
   "cell_type": "code",
   "execution_count": 25,
   "metadata": {},
   "outputs": [
    {
     "name": "stdout",
     "output_type": "stream",
     "text": [
      "0\n"
     ]
    }
   ],
   "source": [
    "elev = rasterize_vector ( \"nlcd\\\\strdataclipeed.shp\", nx, ny, geo_T, str(srs), \"value1\" )"
   ]
  },
  {
   "cell_type": "code",
   "execution_count": 27,
   "metadata": {},
   "outputs": [
    {
     "ename": "AttributeError",
     "evalue": "'numpy.ndarray' object has no attribute 'GetGeoTransform'",
     "output_type": "error",
     "traceback": [
      "\u001b[1;31m---------------------------------------------------------------------------\u001b[0m",
      "\u001b[1;31mAttributeError\u001b[0m                            Traceback (most recent call last)",
      "\u001b[1;32m<ipython-input-27-9b002481b369>\u001b[0m in \u001b[0;36m<module>\u001b[1;34m\u001b[0m\n\u001b[1;32m----> 1\u001b[1;33m \u001b[0mgeo_T\u001b[0m \u001b[1;33m=\u001b[0m \u001b[0melev\u001b[0m\u001b[1;33m.\u001b[0m\u001b[0mGetGeoTransform\u001b[0m\u001b[1;33m(\u001b[0m\u001b[1;33m)\u001b[0m\u001b[1;33m\u001b[0m\u001b[1;33m\u001b[0m\u001b[0m\n\u001b[0m\u001b[0;32m      2\u001b[0m \u001b[0msrs\u001b[0m \u001b[1;33m=\u001b[0m \u001b[0melev\u001b[0m\u001b[1;33m.\u001b[0m\u001b[0mGetSpatialRef\u001b[0m\u001b[1;33m(\u001b[0m\u001b[1;33m)\u001b[0m\u001b[1;33m\u001b[0m\u001b[1;33m\u001b[0m\u001b[0m\n\u001b[0;32m      3\u001b[0m \u001b[0mnx\u001b[0m \u001b[1;33m=\u001b[0m \u001b[0melev\u001b[0m\u001b[1;33m.\u001b[0m\u001b[0mRasterXSize\u001b[0m\u001b[1;33m\u001b[0m\u001b[1;33m\u001b[0m\u001b[0m\n\u001b[0;32m      4\u001b[0m \u001b[0mny\u001b[0m \u001b[1;33m=\u001b[0m \u001b[0melev\u001b[0m\u001b[1;33m.\u001b[0m\u001b[0mRasterYSize\u001b[0m\u001b[1;33m\u001b[0m\u001b[1;33m\u001b[0m\u001b[0m\n\u001b[0;32m      5\u001b[0m \u001b[1;33m\u001b[0m\u001b[0m\n",
      "\u001b[1;31mAttributeError\u001b[0m: 'numpy.ndarray' object has no attribute 'GetGeoTransform'"
     ]
    }
   ],
   "source": [
    "geo_T = elev.GetGeoTransform()\n",
    "srs = elev.GetSpatialRef()\n",
    "nx = elev.RasterXSize\n",
    "ny = elev.RasterYSize\n",
    "\n",
    "print(geo_t)\n",
    "print(\"\\n\")\n",
    "print(srs)\n",
    "print(\"\\n\")\n",
    "print(nx)\n",
    "print(\"\\n\")\n",
    "print(ny)\n",
    "print(\"\\n\")"
   ]
  },
  {
   "cell_type": "code",
   "execution_count": 28,
   "metadata": {},
   "outputs": [
    {
     "name": "stdout",
     "output_type": "stream",
     "text": [
      "[ 0  1  2  3  4  5  6  7  8 10] [19653503    16829     2959      534      202       29       16        3\n",
      "        4        2]\n"
     ]
    }
   ],
   "source": [
    "a = np.array(elev)\n",
    "unique, counts = np.unique(a, return_counts=True)\n",
    "print(unique,counts)"
   ]
  },
  {
   "cell_type": "code",
   "execution_count": 26,
   "metadata": {},
   "outputs": [
    {
     "name": "stdout",
     "output_type": "stream",
     "text": [
      "[ 0  1  2  3  4  5  6  7  8 10] [19653503    16829     2959      534      202       29       16        3\n",
      "        4        2]\n"
     ]
    }
   ],
   "source": [
    "a = np.array(elev)\n",
    "unique, counts = np.unique(a, return_counts=True)\n",
    "print(unique,counts)"
   ]
  },
  {
   "cell_type": "code",
   "execution_count": null,
   "metadata": {},
   "outputs": [],
   "source": []
  },
  {
   "cell_type": "code",
   "execution_count": null,
   "metadata": {},
   "outputs": [],
   "source": []
  },
  {
   "cell_type": "code",
   "execution_count": null,
   "metadata": {},
   "outputs": [],
   "source": []
  },
  {
   "cell_type": "code",
   "execution_count": null,
   "metadata": {},
   "outputs": [],
   "source": []
  },
  {
   "cell_type": "code",
   "execution_count": null,
   "metadata": {},
   "outputs": [],
   "source": []
  },
  {
   "cell_type": "code",
   "execution_count": null,
   "metadata": {},
   "outputs": [],
   "source": []
  }
 ],
 "metadata": {
  "kernelspec": {
   "display_name": "Python 3",
   "language": "python",
   "name": "python3"
  },
  "language_info": {
   "codemirror_mode": {
    "name": "ipython",
    "version": 3
   },
   "file_extension": ".py",
   "mimetype": "text/x-python",
   "name": "python",
   "nbconvert_exporter": "python",
   "pygments_lexer": "ipython3",
   "version": "3.6.12"
  }
 },
 "nbformat": 4,
 "nbformat_minor": 4
}
